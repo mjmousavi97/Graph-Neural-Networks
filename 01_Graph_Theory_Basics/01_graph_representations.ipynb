{
 "cells": [
  {
   "cell_type": "markdown",
   "id": "6eaf9c6d",
   "metadata": {},
   "source": [
    "# Part 1\n",
    "##  Introduction to Graph Learning"
   ]
  },
  {
   "cell_type": "markdown",
   "id": "e5db0d45",
   "metadata": {},
   "source": [
    "In recent years, graph representation of data has become increasingly prevalent across various domains,\n",
    "from social networks to molecular biology. It is crucial to have a deep understanding of Graph Neural\n",
    "Networks (GNNs), which are designed specifically to handle graph-structured data, to unlock the\n",
    "full potential of this representation."
   ]
  },
  {
   "cell_type": "markdown",
   "id": "607379b3",
   "metadata": {},
   "source": [
    "The first question we need to address is: why are we interested in graphs in the first place? Graph\n",
    "theory, the mathematical study of graphs, has emerged as a fundamental tool for understanding\n",
    "complex systems and relationships. A graph is a visual representation of a collection of nodes (also\n",
    "called vertices) and edges that connect these nodes, providing a structure to represent entities and\n",
    "their relationships "
   ]
  },
  {
   "cell_type": "markdown",
   "id": "5cbf92a2",
   "metadata": {
    "vscode": {
     "languageId": "plaintext"
    }
   },
   "source": [
    "By representing a complex system as a network of entities with interactions, we can analyze their\n",
    "relationships, allowing us to gain a deeper understanding of their underlying structures and patterns.\n",
    "The versatility of graphs makes them a popular choice in various domains, including the following:\n",
    "\n",
    "- Computer science, where graphs can be used to model the structure of computer programs,\n",
    "making it easier to understand how different components of a system interact with each other\n",
    "\n",
    "- Physics, where graphs can be used to model physical systems and their interactions, such as\n",
    "the relationship between particles and their properties\n",
    "\n",
    "- Biology, where graphs can be used to model biological systems, such as metabolic pathways,\n",
    "as a network of interconnected entities\n",
    "\n",
    "- Social sciences, where graphs can be used to study and understand complex social networks,\n",
    "including the relationships between individuals in a community\n",
    "\n",
    "- Finance, where graphs can be used to analyze stock market trends and relationships between\n",
    "different financial instruments\n",
    "\n",
    "- Engineering, where graphs can be used to model and analyze complex systems, such as\n",
    "transportation networks and electrical power grids"
   ]
  },
  {
   "cell_type": "markdown",
   "id": "f744c138",
   "metadata": {},
   "source": [
    "<div align=\"center\">\n",
    "  <img src=\"images/ChatGPT Image Jun 25, 2025, 10_05_00 PM.png\" alt=\"Description\" width=\"400\"/><br>\n",
    "  <span style=\"font-size:14px;\">\n",
    "    OpenAI. (2025). <i>ChatGPT (June 2025 version)</i> [Large language model]. https://chat.openai.com\n",
    "  </span>\n",
    "</div>"
   ]
  },
  {
   "cell_type": "markdown",
   "id": "fc621639",
   "metadata": {},
   "source": [
    "For example, images can be represented as a graph:"
   ]
  },
  {
   "cell_type": "markdown",
   "id": "6177fdcd",
   "metadata": {},
   "source": [
    "<div align=\"center\">\n",
    "  <img src=\"images/Screenshot 2025-06-27 062816.jpg\" alt=\"Description\" width=\"400\"/><br>\n",
    "  <span style=\"font-size:14px;\">\n",
    "    Left: original image; right: graph representation of this image\n",
    "  </span>\n",
    "</div>"
   ]
  },
  {
   "cell_type": "markdown",
   "id": "c313cfc7",
   "metadata": {},
   "source": [
    "# Why graph learning?"
   ]
  },
  {
   "cell_type": "markdown",
   "id": "0e470766",
   "metadata": {},
   "source": [
    "Graph learning is the application of machine learning techniques to graph data. There\n",
    "are many graphs learning tasks, including the following:\n",
    "\n",
    "- **Node classification** is a task that involves predicting the category (class) of a node in a graph.\n",
    "For example, it can categorize online users or items based on their characteristics. In this task,\n",
    "the model is trained on a set of labeled nodes and their attributes, and it uses this information\n",
    "to predict the class of unlabeled nodes.\n",
    "\n",
    "- **Link prediction** is a task that involves predicting missing links between pairs of nodes in a\n",
    "graph. This is useful in knowledge graph completion, where the goal is to complete a graph of\n",
    "entities and their relationships. For example, it can be used to predict the relationships between\n",
    "people based on their social network connections (friend recommendation).\n",
    "\n",
    "- **Graph classification** is a task that involves categorizing different graphs into predefined\n",
    "categories. One example of this is in molecular biology, where molecular structures can be\n",
    "represented as graphs, and the goal is to predict their properties for drug design. In this task,\n",
    "the model is trained on a set of labeled graphs and their attributes, and it uses this information\n",
    "to categorize unseen graphs.\n",
    "\n",
    "- **Graph generation** is a task that involves generating new graphs based on a set of desired\n",
    "properties. One of the main applications is generating novel molecular structures for drug\n",
    "discovery. This is achieved by training a model on a set of existing molecular structures and\n",
    "then using it to generate new, unseen structures. The generated structures can be evaluated for\n",
    "their potential as drug candidates and further studied.\n",
    "\n",
    "Graph learning has many other practical applications that can have a significant impact."
   ]
  },
  {
   "cell_type": "markdown",
   "id": "bcf4f78e",
   "metadata": {},
   "source": [
    "#### The study of graphs has advanced rapidly in recent years, driven by the availability of large datasets, powerful computing resources, and advancements in machine learning and artificial intelligence. As a result, we can list four prominent families of graph learning techniques:\n",
    "\n",
    "- **Graph signal processing**, which applies traditional signal processing methods to graphs, such\n",
    "as the graph Fourier transform and spectral analysis. These techniques reveal the intrinsic\n",
    "properties of the graph, such as its connectivity and structure.\n",
    "\n",
    "- **Matrix factorization**, which seeks to find low-dimensional representations of large matrices.\n",
    "The goal of matrix factorization is to identify latent factors or patterns that explain the observed\n",
    "relationships in the original matrix. This approach can provide a compact and interpretable\n",
    "representation of the data.\n",
    "\n",
    "- **Random walk**, which refers to a mathematical concept used to model the movement of entities\n",
    "in a graph. By simulating random walks over a graph, information about the relationships\n",
    "between nodes can be gathered. This is why they are often used to generate training data for\n",
    "machine learning models.\n",
    "\n",
    "- **Deep learning**, which is a subfield of machine learning that focuses on neural networks with\n",
    "multiple layers. Deep learning methods can effectively encode and represent graph data as\n",
    "vectors. These vectors can then be used in various tasks with remarkable p"
   ]
  },
  {
   "cell_type": "markdown",
   "id": "94913654",
   "metadata": {},
   "source": [
    "# Why graph neural networks?"
   ]
  },
  {
   "cell_type": "markdown",
   "id": "d08b71a3",
   "metadata": {},
   "source": [
    "GNNs are a new category of deep learning architecture and are specifically\n",
    "designed for graph-structured data. Unlike traditional deep learning algorithms, which have been\n",
    "primarily developed for text and images, GNNs are explicitly made to process and analyze graph\n",
    "datasets."
   ]
  },
  {
   "cell_type": "markdown",
   "id": "9b0d96fe",
   "metadata": {},
   "source": [
    "GNNs have emerged as a powerful tool for graph learning and have shown excellent results in various\n",
    "tasks and industries. One of the most striking examples is how a GNN model identified a new antibiotic. The model was trained on 2,500 molecules and was tested on a library of 6,000 compounds. It\n",
    "predicted that a molecule called `halicin` should be able to kill many antibiotic-resistant bacteria while\n",
    "having low toxicity to human cells."
   ]
  },
  {
   "cell_type": "markdown",
   "id": "4bbe9a6c",
   "metadata": {},
   "source": [
    "<div align=\"center\">\n",
    "  <img src=\"images/Halicin.svg.png\" alt=\"Description\" width=\"400\"/><br>\n",
    "  <span style=\"font-size:14px;\">\n",
    "    https://en.wikipedia.org/wiki/Halicin\n",
    "  </span>\n",
    "</div>\n"
   ]
  },
  {
   "cell_type": "markdown",
   "id": "2ff7b479",
   "metadata": {},
   "source": [
    "GNNs build a vector representation for each node using:\n",
    "\n",
    "- Node features (e.g., name, age, gender)\n",
    "\n",
    "- Edge features (e.g., relationship strength)\n",
    "\n",
    "- Global features (e.g., network-wide statistics)\n",
    "\n",
    "This is why GNNs outperform traditional ML — they don’t just use original features; they also integrate information from neighbors, edges, and graph structure."
   ]
  },
  {
   "cell_type": "markdown",
   "id": "03eacc3e",
   "metadata": {},
   "source": [
    "GNNs use a graph convolution operation:\n",
    "\n",
    "- They aggregate features from neighboring nodes and edges.\n",
    "\n",
    "- This is done iteratively, so the model learns more complex patterns over multiple layers.\n",
    "\n",
    "- Eventually, the new representations are used for tasks like classification, regression, or link prediction.\n",
    "\n"
   ]
  },
  {
   "cell_type": "markdown",
   "id": "59f96167",
   "metadata": {},
   "source": [
    "# Graph Learning Approaches"
   ]
  },
  {
   "cell_type": "markdown",
   "id": "afefb616",
   "metadata": {},
   "source": [
    "## First Approach: Fully Traditional Approach\n",
    "> Manually extracting features from the graph and then classifying it:"
   ]
  },
  {
   "cell_type": "markdown",
   "id": "bea91cae",
   "metadata": {},
   "source": [
    "<div align=\"center\">\n",
    "  <img src=\"images/Untitled Diagram.drawio (1).png\" alt=\"Description\" width=\"800\"/><br>\n",
    "</div>"
   ]
  },
  {
   "cell_type": "markdown",
   "id": "c9a5446e",
   "metadata": {},
   "source": [
    "## Second Approach: Fully Modern Approach Based on Graph Neural Networks\n",
    "> Classifying the graph using a learning algorithm that automatically extracts appropriate features"
   ]
  },
  {
   "cell_type": "markdown",
   "id": "450501cc",
   "metadata": {},
   "source": [
    "<div align=\"center\">\n",
    "  <img src=\"images/Untitled Diagram.drawio (3).png\" alt=\"Description\" width=\"550\"/><br>\n",
    "</div>"
   ]
  },
  {
   "cell_type": "markdown",
   "id": "c602eaee",
   "metadata": {},
   "source": [
    "## Third Approach: Intermediate Approach with Graph Embedding\n",
    "> Feeding the graph into a model that automatically extracts appropriate features and then passing it to a learning algorithm."
   ]
  },
  {
   "cell_type": "markdown",
   "id": "1d17883d",
   "metadata": {},
   "source": [
    "<div align=\"center\">\n",
    "  <img src=\"images/Untitled Diagram.drawio (2).png\" alt=\"Description\" width=\"800\"/><br>\n",
    "</div>"
   ]
  },
  {
   "cell_type": "markdown",
   "id": "24d9c7ce",
   "metadata": {},
   "source": [
    "<div align=\"center\">\n",
    "  <img src=\"images/Untitled Diagram.drawio (5).png\" alt=\"Description\" width=\"800\"/><br>\n",
    "</div>"
   ]
  },
  {
   "cell_type": "markdown",
   "id": "a966bc13",
   "metadata": {},
   "source": [
    "____"
   ]
  },
  {
   "cell_type": "markdown",
   "id": "df8a3f2a",
   "metadata": {},
   "source": [
    "# Introducing graph properties\n",
    "\n",
    "In graph theory, a graph is a mathematical structure consisting of a set of objects, called vertices or\n",
    "nodes, and a set of connections, called edges, which link pairs of vertices. The notation G = (v,E)\n",
    "is used to represent a graph, where G is the graph, V is the set of vertices, and E is the set of edges.\n",
    "\n",
    "The nodes of a graph can represent any objects, such as cities, people, web pages, or molecules, and\n",
    "the edges represent the relationships or connections between them, such as physical roads, social\n",
    "relationships, hyperlinks, or chemical bonds."
   ]
  },
  {
   "cell_type": "markdown",
   "id": "31b4de36",
   "metadata": {},
   "source": [
    "**Directed graphs**\n",
    "\n",
    "One of the most basic properties of a graph is whether it is directed or undirected. In a directed graph,\n",
    "also called a digraph, each edge has a direction or orientation. This means that the edge connects\n",
    "two nodes in a particular direction, where one node is the source and the other is the destination. In\n",
    "contrast, an undirected graph has undirected edges, where the edges have no direction. This means\n",
    "that the edge between two vertices can be traversed in either direction, and the order in which we\n",
    "visit the nodes does not matter."
   ]
  },
  {
   "cell_type": "code",
   "execution_count": 61,
   "id": "21b3f8ad",
   "metadata": {},
   "outputs": [],
   "source": [
    "import numpy as np\n",
    "import networkx as nx\n",
    "import matplotlib.pyplot as plt"
   ]
  },
  {
   "cell_type": "code",
   "execution_count": 7,
   "id": "c6a0717f",
   "metadata": {},
   "outputs": [],
   "source": [
    "G = nx.Graph()\n",
    "G.add_edges_from([('A', 'B'), ('A', 'C'), ('B', 'D'),\n",
    "('B', 'E'), ('C', 'F'), ('C', 'G')])"
   ]
  },
  {
   "cell_type": "code",
   "execution_count": 36,
   "id": "3348363b",
   "metadata": {},
   "outputs": [
    {
     "data": {
      "image/png": "[encoded data removed]",
      "text/plain": [
       "<Figure size 640x480 with 1 Axes>"
      ]
     },
     "metadata": {},
     "output_type": "display_data"
    }
   ],
   "source": [
    "pos = nx.spring_layout(G, seed=0) \n",
    "nx.draw_networkx(G, pos, with_labels=True, node_color='lightblue', node_size=1500, font_size=14, edge_color='gray')\n",
    "\n",
    "plt.axis(\"off\")\n",
    "plt.title(\"Graph Visualization\")\n",
    "plt.show()"
   ]
  },
  {
   "cell_type": "markdown",
   "id": "2efd683b",
   "metadata": {},
   "source": [
    "The code to create a directed graph is similar; we simply replace nx.Graph() with nx.DiGraph():"
   ]
  },
  {
   "cell_type": "code",
   "execution_count": 37,
   "id": "5d2ae8ae",
   "metadata": {},
   "outputs": [],
   "source": [
    "DG = nx.DiGraph()\n",
    "DG.add_edges_from([('A', 'B'), ('A', 'C'), ('B', 'D'),\n",
    "('B', 'E'), ('C', 'F'), ('C', 'G')])"
   ]
  },
  {
   "cell_type": "code",
   "execution_count": 38,
   "id": "6698b75f",
   "metadata": {},
   "outputs": [
    {
     "data": {
      "image/png": "[encoded data removed]",
      "text/plain": [
       "<Figure size 640x480 with 1 Axes>"
      ]
     },
     "metadata": {},
     "output_type": "display_data"
    }
   ],
   "source": [
    "nx.draw_networkx(DG, pos, with_labels=True, node_color='lightblue', node_size=1500, font_size=14, edge_color='gray')\n",
    "\n",
    "plt.axis(\"off\")\n",
    "plt.title(\"Directed Graph Visualization\")\n",
    "plt.show()"
   ]
  },
  {
   "cell_type": "markdown",
   "id": "a2e5d3a1",
   "metadata": {},
   "source": [
    "**Weighted graphs**\n",
    "\n",
    "Another important property of graphs is whether the edges are weighted or unweighted. In a weighted\n",
    "graph, each edge has a weight or cost associated with it. These weights can represent various factors,\n",
    "such as distance, travel time, or cost.\n",
    "For example, in a transportation network, the weights of edges might represent the distances between\n",
    "different cities or the time it takes to travel between them. In contrast, unweighted graphs have no\n",
    "weight associated with their edges. These types of graphs are commonly used in situations where the\n",
    "relationships between nodes are binary, and the edges simply indicate the presence or absence of a\n",
    "connection between them"
   ]
  },
  {
   "cell_type": "code",
   "execution_count": 39,
   "id": "3559d7b4",
   "metadata": {},
   "outputs": [],
   "source": [
    "WG = nx.Graph()\n",
    "WG.add_edges_from([('A', 'B', {\"weight\": 10}), ('A', 'C',\n",
    "{\"weight\": 20}), ('B', 'D', {\"weight\": 30}), ('B', 'E',\n",
    "{\"weight\": 40}), ('C', 'F', {\"weight\": 50}), ('C', 'G',\n",
    "{\"weight\": 60})])\n",
    "\n",
    "labels = nx.get_edge_attributes(WG, \"weight\")"
   ]
  },
  {
   "cell_type": "code",
   "execution_count": 44,
   "id": "d983dfb8",
   "metadata": {},
   "outputs": [
    {
     "data": {
      "image/png": "[encoded data removed]",
      "text/plain": [
       "<Figure size 640x480 with 1 Axes>"
      ]
     },
     "metadata": {},
     "output_type": "display_data"
    }
   ],
   "source": [
    "nx.draw_networkx(WG,\n",
    "                 pos=pos,\n",
    "                 node_size=1500,\n",
    "                 cmap='coolwarm',\n",
    "                 font_size=14,\n",
    "                 font_color='white'\n",
    "                 )\n",
    "nx.draw_networkx_edge_labels(WG, pos=pos, edge_labels=labels)\n",
    "\n",
    "plt.axis(\"off\")\n",
    "plt.title(\"Weighted Graph Visualization\")\n",
    "plt.show()"
   ]
  },
  {
   "cell_type": "markdown",
   "id": "e3147425",
   "metadata": {},
   "source": [
    "# Connected graphs\n",
    "\n",
    "Graph connectivity is a fundamental concept in graph theory that is closely related to the graph’s\n",
    "structure and function.\n",
    "\n",
    "In a connected graph, there is a path between any two vertices in the graph. Formally, a G graph is\n",
    "connected if, and only if, for every pair of u and v vertices in G , there exists a path from u to v. In\n",
    "contrast, a graph is disconnected if it is not connected, which means that at least two vertices are not\n",
    "connected by a path."
   ]
  },
  {
   "cell_type": "code",
   "execution_count": 52,
   "id": "71433efe",
   "metadata": {},
   "outputs": [
    {
     "name": "stderr",
     "output_type": "stream",
     "text": [
      "/home/mohammadjavad/anaconda3/envs/py312/lib/python3.12/site-packages/networkx/drawing/nx_pylab.py:457: UserWarning: No data for colormapping provided via 'c'. Parameters 'cmap' will be ignored\n",
      "  node_collection = ax.scatter(\n"
     ]
    },
    {
     "data": {
      "image/png": "[encoded data removed]",
      "text/plain": [
       "<Figure size 600x600 with 2 Axes>"
      ]
     },
     "metadata": {},
     "output_type": "display_data"
    }
   ],
   "source": [
    "G1 = nx.Graph()\n",
    "G1.add_edges_from([(1, 2), (2, 3), (3, 1), (4, 5)])\n",
    "\n",
    "G2 = nx.Graph()\n",
    "G2.add_edges_from([(1, 2), (2, 3), (3, 1), (1, 4)])\n",
    "\n",
    "pos1 = nx.spring_layout(G1, seed=0)\n",
    "pos2 = nx.spring_layout(G2, seed=0)\n",
    "\n",
    "plt.figure(figsize=(6, 6))\n",
    "plt.subplot(1, 2, 1)\n",
    "plt.axis('off')\n",
    "nx.draw_networkx(\n",
    "    G1,\n",
    "    pos=pos1,\n",
    "    node_size=600,\n",
    "    cmap='coolwarm',\n",
    "    font_size=14,\n",
    "    font_color='white'\n",
    ")\n",
    "plt.subplot(1, 2, 2)\n",
    "plt.axis('off')\n",
    "nx.draw_networkx(G2,\n",
    "                 pos=pos2,\n",
    "                 node_size=600,\n",
    "                 cmap='coolwarm',\n",
    "                 font_size=14,\n",
    "                 font_color='white'\n",
    ")"
   ]
  },
  {
   "cell_type": "code",
   "execution_count": 51,
   "id": "7866bac5",
   "metadata": {},
   "outputs": [
    {
     "name": "stdout",
     "output_type": "stream",
     "text": [
      "Is graph 1 connected? False\n",
      "Is graph 2 connected? True\n"
     ]
    }
   ],
   "source": [
    "print(f\"Is graph 1 connected? {nx.is_connected(G1)}\")\n",
    "print(f\"Is graph 2 connected? {nx.is_connected(G2)}\")"
   ]
  },
  {
   "cell_type": "markdown",
   "id": "06a132be",
   "metadata": {},
   "source": [
    "# Discovering graph concepts"
   ]
  },
  {
   "cell_type": "markdown",
   "id": "60324169",
   "metadata": {},
   "source": [
    "Fundamental objects\n",
    "\n",
    "One of the key concepts in graph theory is the degree of a node, which is the number of edges incident\n",
    "to this node. An edge is said to be incident on a node if that node is one of the edge’s endpoints. The\n",
    "degree of a node is often denoted by deg(v). It can be defined for both directed and undirected graphs:\n",
    "\n",
    "- In an undirected graph, the degree of a vertex is the number of edges that are connected to it.\n",
    "Note that if the node is connected to itself (called a loop, or self-loop), it adds two to the degree\n",
    "\n",
    "- In a directed graph, the degree is divided into two types: indegree and outdegree. The indegree\n",
    "(denoted by deg−(v)) of a node represents the number of edges that point towards that node,\n",
    "while the outdegree (denoted by deg+(v)) represents the number of edges that start from that\n",
    "node. In this case, a self-loop adds one to the indegree and to the outdegree.\n",
    "\n",
    "Indegree and outdegree are essential for analyzing and understanding directed graphs, as they provide\n",
    "insight into how information or resources are distributed within the graph. For example, nodes with\n",
    "high indegree are likely to be important sources of information or resources. In contrast, nodes with\n",
    "high outdegree are likely to be important destinations or consumers of information or resources."
   ]
  },
  {
   "cell_type": "code",
   "execution_count": 47,
   "id": "4172a6ef",
   "metadata": {},
   "outputs": [
    {
     "name": "stdout",
     "output_type": "stream",
     "text": [
      "Degree of node A is: 2\n",
      "In degree of node A is: 0\n",
      "Out degree of node A is: 2\n"
     ]
    }
   ],
   "source": [
    "print(f\"Degree of node A is: {G.degree['A']}\")\n",
    "print(f\"In degree of node A is: {DG.in_degree['A']}\")\n",
    "print(f\"Out degree of node A is: {DG.out_degree['A']}\")"
   ]
  },
  {
   "cell_type": "markdown",
   "id": "f56454fc",
   "metadata": {},
   "source": [
    "The concept of node degree is related to that of neighbors. Neighbors refer to the nodes directly\n",
    "connected to a particular node through an edge. Moreover, two nodes are said to be adjacent if they\n",
    "share at least one common neighbor. The concepts of neighbors and adjacency are fundamental to\n",
    "many graph algorithms and applications, such as searching for a path between two nodes or identifying\n",
    "clusters in a network."
   ]
  },
  {
   "cell_type": "markdown",
   "id": "8a016c37",
   "metadata": {},
   "source": [
    "In graph theory, a path is a sequence of edges that connect two nodes (or more) in a graph. The length\n",
    "of a path is the number of edges that are traversed along the path. There are different types of paths,\n",
    "but two of them are particularly important:\n",
    "\n",
    "- A simple path is a path that does not visit any node more than once, except for the start and\n",
    "end vertices\n",
    "- A cycle is a path in which the first and last vertices are the same. A graph is said to be acyclic\n",
    "if it contains no cycles (such as trees and DAGs)\n",
    "\n",
    "Degrees and paths can be used to determine the importance of a node in a network. This measure is\n",
    "referred to as centrality"
   ]
  },
  {
   "cell_type": "markdown",
   "id": "a996999a",
   "metadata": {},
   "source": [
    "# Adjacency matrix representation\n",
    "\n",
    "An adjacency matrix is a matrix that represents the edges in a graph, where each cell indicates whether\n",
    "there is an edge between two nodes. The matrix is a square matrix of size n × n , where is the number\n",
    "of nodes in the graph. A value of 1 in the cell (i,j) indicates that there is an edge between node\n",
    "i and node j, while a value of 0 indicates that there is no edge. For an undirected graph, the matrix is\n",
    "symmetric, while for a directed graph, the matrix is not necessarily symmetric."
   ]
  },
  {
   "cell_type": "code",
   "execution_count": 54,
   "id": "6a1c6c79",
   "metadata": {},
   "outputs": [
    {
     "name": "stdout",
     "output_type": "stream",
     "text": [
      "Nodes: ['A', 'B', 'C', 'D', 'E', 'F', 'G']\n",
      "Adjacency Matrix:\n",
      " [[0 1 1 0 0 0 0]\n",
      " [1 0 0 1 1 0 0]\n",
      " [1 0 0 0 0 1 1]\n",
      " [0 1 0 0 0 0 0]\n",
      " [0 1 0 0 0 0 0]\n",
      " [0 0 1 0 0 0 0]\n",
      " [0 0 1 0 0 0 0]]\n"
     ]
    }
   ],
   "source": [
    "adj_matrix = nx.adjacency_matrix(G, nodelist=sorted(G.nodes())).todense()\n",
    "\n",
    "print(\"Nodes:\", sorted(G.nodes()))\n",
    "print(\"Adjacency Matrix:\\n\", adj_matrix)"
   ]
  },
  {
   "cell_type": "markdown",
   "id": "2c49fcb6",
   "metadata": {},
   "source": [
    "When two graphs have the same structure but different node orderings, their adjacency matrices will look different, even though the underlying graph is the same. This difference is purely due to a permutation of the rows and columns based on the node ordering.\n",
    "\n",
    "If two graphs are **isomorphic**, their adjacency matrices are **permutation-similar**.  \n",
    "This means you can transform the adjacency matrix of one graph into that of the other by applying a permutation to its rows and columns.\n",
    "\n",
    "Mathematically, this is expressed as:\n",
    "\n",
    "$$\n",
    "A' = P^T A P\n",
    "$$\n",
    "\n",
    "Where:\n",
    "- **A**: adjacency matrix of the original graph  \n",
    "- **A′**: adjacency matrix of the reordered graph (or the isomorphic graph)  \n",
    "- **P**: permutation matrix that reorders the nodes  \n",
    "- **Pᵀ**: transpose of **P**, used to permute the columns accordingly\n"
   ]
  },
  {
   "cell_type": "code",
   "execution_count": 83,
   "id": "9d492c30",
   "metadata": {},
   "outputs": [
    {
     "name": "stdout",
     "output_type": "stream",
     "text": [
      "Adjacency Matrix 1:\n",
      " [[0 1 1 0 0 0 0]\n",
      " [1 0 0 1 1 0 0]\n",
      " [1 0 0 0 0 1 1]\n",
      " [0 1 0 0 0 0 0]\n",
      " [0 1 0 0 0 0 0]\n",
      " [0 0 1 0 0 0 0]\n",
      " [0 0 1 0 0 0 0]] \n",
      "\n",
      "Adjacency Matrix 2:\n",
      " [[0 1 1 1 0 0 0]\n",
      " [1 0 0 0 0 0 0]\n",
      " [1 0 0 0 0 0 0]\n",
      " [1 0 0 0 1 0 0]\n",
      " [0 0 0 1 0 1 1]\n",
      " [0 0 0 0 1 0 0]\n",
      " [0 0 0 0 1 0 0]]\n"
     ]
    }
   ],
   "source": [
    "order1 = ['A', 'B', 'C', 'D', 'E', 'F', 'G']\n",
    "order2 = ['C', 'G', 'F', 'A', 'B', 'D', 'E']\n",
    "\n",
    "A1 = nx.adjacency_matrix(G, nodelist=order1).todense()\n",
    "A2 = nx.adjacency_matrix(G, nodelist=order2).todense()\n",
    "\n",
    "print(\"Adjacency Matrix 1:\\n\", A1, '\\n')\n",
    "print(\"Adjacency Matrix 2:\\n\", A2)"
   ]
  },
  {
   "cell_type": "code",
   "execution_count": 84,
   "id": "cf85b93b",
   "metadata": {},
   "outputs": [
    {
     "data": {
      "image/png": "[encoded data removed]",
      "text/plain": [
       "<Figure size 640x480 with 2 Axes>"
      ]
     },
     "metadata": {},
     "output_type": "display_data"
    }
   ],
   "source": [
    "pos = nx.spring_layout(G, seed=42)\n",
    "\n",
    "plt.subplot(1, 2, 1)\n",
    "nx.draw(G, pos, with_labels=True, node_color='skyblue')\n",
    "plt.title(\"Graph - order1\")\n",
    "\n",
    "label_map = {old: new for old, new in zip(order1, order2)}\n",
    "\n",
    "plt.subplot(1, 2, 2)\n",
    "nx.draw(G, pos, labels=label_map, with_labels=True, node_color='lightgreen')\n",
    "plt.title(\"Graph - order2\")\n",
    "\n",
    "plt.tight_layout()\n",
    "plt.show()"
   ]
  },
  {
   "cell_type": "markdown",
   "id": "f4b03918",
   "metadata": {},
   "source": [
    "The elements of the permutation matrix **P** are defined as:\n",
    "\n",
    "$$\n",
    "P_{ij} =\n",
    "\\begin{cases}\n",
    "1 & \\text{if } \\text{to\\_order}[i] = \\text{from\\_order}[j] \\\\\n",
    "0 & \\text{otherwise}\n",
    "\\end{cases}\n",
    "$$\n",
    "\n",
    "In other words, for each element $v$ at index $i$ in `to_order`, find its position $j$ in `from_order`, and set:\n",
    "\n",
    "$$\n",
    "P[i, j] = 1\n",
    "$$"
   ]
  },
  {
   "cell_type": "code",
   "execution_count": 85,
   "id": "347c4805",
   "metadata": {},
   "outputs": [],
   "source": [
    "def permutation_matrix(from_order, to_order):\n",
    "    n = len(from_order)\n",
    "    p = np.zeros((n, n), dtype=int)\n",
    "\n",
    "    for i in range(n):\n",
    "        for j in range(n):\n",
    "            if to_order[i] == from_order[j]:\n",
    "                p[i, j] = 1\n",
    "    \n",
    "    return p"
   ]
  },
  {
   "cell_type": "code",
   "execution_count": 86,
   "id": "d4c743ac",
   "metadata": {},
   "outputs": [],
   "source": [
    "p = permutation_matrix(order1, order2)"
   ]
  },
  {
   "cell_type": "code",
   "execution_count": 87,
   "id": "62c56415",
   "metadata": {},
   "outputs": [
    {
     "data": {
      "text/plain": [
       "array([[0, 0, 1, 0, 0, 0, 0],\n",
       "       [0, 0, 0, 0, 0, 0, 1],\n",
       "       [0, 0, 0, 0, 0, 1, 0],\n",
       "       [1, 0, 0, 0, 0, 0, 0],\n",
       "       [0, 1, 0, 0, 0, 0, 0],\n",
       "       [0, 0, 0, 1, 0, 0, 0],\n",
       "       [0, 0, 0, 0, 1, 0, 0]])"
      ]
     },
     "execution_count": 87,
     "metadata": {},
     "output_type": "execute_result"
    }
   ],
   "source": [
    "p"
   ]
  },
  {
   "cell_type": "code",
   "execution_count": 90,
   "id": "0f2165e3",
   "metadata": {},
   "outputs": [
    {
     "name": "stdout",
     "output_type": "stream",
     "text": [
      "True\n"
     ]
    }
   ],
   "source": [
    "A_new = p @ A1 @ p.T\n",
    "print(np.array_equal(A2, A_new))\n"
   ]
  },
  {
   "cell_type": "markdown",
   "id": "6d7468f8",
   "metadata": {},
   "source": [
    "**Key advantages of using an adjacency matrix:**\n",
    "- Checking whether two nodes are connected is a constant-time operation. This makes graph-related tests faster.\n",
    "\n",
    "- It can be used in some algorithms that require special calculations like finding the shortest path between two nodes.\n",
    "\n",
    "**Disadvantages of adjacency matrix:**\n",
    "- Adding or removing nodes can be costly because the matrix size must be changed.\n",
    "\n",
    "- Increasing the number of nodes increases the memory requirement significantly. The adjacency matrix needs space proportional to |V|² (where |V| is the number of nodes), while sparse graphs often only require |V| + |E| (where |E| is the number of edges).\n",
    "\n",
    "- Displaying small graphs: While its structure is useful for showing small graphs, it can be inefficient for large graphs. Moreover, extra memory may be required, which can make working with large graphs impractical"
   ]
  },
  {
   "cell_type": "markdown",
   "id": "c2b93633",
   "metadata": {},
   "source": [
    "## Walk / Trail / Path in Graphs\n",
    "\n",
    "- Walk:\n",
    "A walk is an unlimited sequence through a graph where movement along each edge is allowed freely. It may revisit both vertices and edges. In a directed graph, each step must follow the direction of the edge; in an undirected graph, movement is allowed in both directions.\n",
    "\n",
    "- Trail:\n",
    "A trail is a walk in which no edge is repeated, although vertices may be revisited.\n",
    "\n",
    "- Path:\n",
    "A path is a walk in which neither vertices nor edges can be repeated."
   ]
  },
  {
   "cell_type": "markdown",
   "id": "fe14eb34",
   "metadata": {},
   "source": []
  }
 ],
 "metadata": {
  "kernelspec": {
   "display_name": "py312",
   "language": "python",
   "name": "python3"
  },
  "language_info": {
   "codemirror_mode": {
    "name": "ipython",
    "version": 3
   },
   "file_extension": ".py",
   "mimetype": "text/x-python",
   "name": "python",
   "nbconvert_exporter": "python",
   "pygments_lexer": "ipython3",
   "version": "3.12.2"
  }
 },
 "nbformat": 4,
 "nbformat_minor": 5
}
