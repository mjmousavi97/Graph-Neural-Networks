{
 "cells": [
  {
   "cell_type": "markdown",
   "id": "9d281ade",
   "metadata": {},
   "source": [
    "## Introducing Node2Vec\n",
    "\n",
    "Node2Vec was introduced in 2016 by **Grover and Leskovec** from **Stanford University** [1].  \n",
    "It keeps the same two main components from **DeepWalk**: *random walks* and *Word2Vec*.  \n",
    "The difference is that instead of obtaining sequences of nodes with a **uniform distribution**, the random walks are **carefully biased** in Node2Vec.\n",
    "\n",
    "We will see why these **biased random walks** perform better and how to implement them in the two following sections:\n",
    "\n",
    "- **Defining a neighborhood**\n",
    "- **Introducing biases in random walks**\n",
    "\n"
   ]
  },
  {
   "cell_type": "markdown",
   "id": "4cf072f6",
   "metadata": {},
   "source": [
    "### Defining a neighborhood\n",
    "\n",
    "How do you define the neighborhood of a node?  \n",
    "The key concept introduced in **Node2Vec** is the **flexible notion of a neighborhood**.  \n",
    "Intuitively, we think of it as something close to the initial node,  \n",
    "but what does “close” mean in the context of a graph?\n",
    "\n",
    "Let’s take the following graph as an example:\n"
   ]
  },
  {
   "cell_type": "markdown",
   "id": "185142c5",
   "metadata": {},
   "source": [
    "<p align=\"center\">\n",
    "  <img src=\"images/1.jpg\" width=\"400\">\n",
    "</p>\n"
   ]
  },
  {
   "cell_type": "markdown",
   "id": "c101e4bd",
   "metadata": {},
   "source": [
    "We want to explore three nodes in the neighborhood of node **A**. This exploration process is also called  \n",
    "a **sampling strategy**:\n",
    "\n",
    "- A possible solution would be to consider the three closest nodes in terms of connections.  \n",
    "  In this case, the neighborhood of **A**, noted **N(A)**, would be:  \n",
    "  **N(A) = {B, C, D}**\n",
    "\n",
    "- Another possible sampling strategy consists of selecting nodes that are not adjacent to previous nodes first.  \n",
    "  In our example, the neighborhood of **A** would be:  \n",
    "  **N(A) = {D, E, F}**\n",
    "\n",
    "In other words, we want to implement a **Breadth-First Search (BFS)** in the first case and a  \n",
    "**Depth-First Search (DFS)** in the second one.  \n",
    "\n",
    "\n",
    "\n",
    "\n",
    "What is important to notice here is that these sampling strategies have **opposite behaviors**:  \n",
    "- **BFS** focuses on the local network around a node  \n",
    "- while **DFS** establishes a more macro view of the graph.\n",
    "\n",
    "Considering our intuitive definition of a neighborhood, it is tempting to simply discard **DFS**.  \n",
    "However, the authors of **Node2Vec** argue that this would be a **mistake**:  \n",
    "> Each approach captures a different but valuable representation of the network.\n"
   ]
  },
  {
   "cell_type": "markdown",
   "id": "17c8b024",
   "metadata": {},
   "source": [
    "### Introducing biases in random walks\n",
    "\n",
    "As a reminder, random walks are sequences of nodes that are randomly selected in a graph.  \n",
    "They have a starting point, which can also be random, and a predefined length.  \n",
    "Nodes that often appear together in these walks are like words that appear together in sentences:  \n",
    "under the homophily hypothesis, they share a similar meaning, hence a similar representation.\n",
    "\n",
    "---\n",
    "\n",
    "### Improving Embeddings with Biased Random Walks in Node2Vec\n",
    "\n",
    "In **Node2Vec**, our goal is to bias the randomness of these walks to either one of the following:\n",
    "\n",
    "- Promoting nodes that are not connected to the previous one (similar to DFS)\n",
    "- Promoting nodes that are close to the previous one (similar to BFS)\n",
    "\n",
    "<p align=\"center\">\n",
    "  <img src=\"images/2.jpg\" width=\"400\">\n",
    "</p>\n",
    "\n",
    " The current node is called **j**, the previous node is **i**, and the future node is **k**.  \n",
    "We note **π<sub>jk</sub>**, the unnormalized transition probability from node **j** to node **k**.  \n",
    "This probability can be decomposed as:\n",
    "\n",
    "$$\n",
    "\\pi_{jk} = \\alpha(i, k) \\cdot \\omega_{jk}\n",
    "$$\n",
    "\n",
    "where **α(i, k)** is the *search bias* between nodes **i** and **k**, and **ω<sub>jk</sub>** is the weight of the edge from **j** to **k**.\n",
    "\n",
    "In **DeepWalk**, we have:\n",
    "\n",
    "$$\n",
    "\\alpha(a, b) = 1\n",
    "$$\n",
    "\n",
    "for any pair of nodes **a** and **b**.  \n",
    "\n",
    "In **Node2Vec**, the value of **α(a, b)** is defined based on the distance between the nodes and two additional parameters:  \n",
    "- **p**, the return parameter  \n",
    "- **q**, the in-out parameter  \n",
    "\n",
    "Their role is to approximate **DFS** and **BFS**, respectively.\n"
   ]
  },
  {
   "cell_type": "markdown",
   "id": "09103533",
   "metadata": {},
   "source": [
    "In **DeepWalk**, we have **α(a, b) = 1** for any pair of nodes **a** and **b**.  \n",
    "In **Node2Vec**, the value of **α(a, b)** is defined based on the distance between the nodes and two additional parameters:  \n",
    "- **p**, the return parameter, and  \n",
    "- **q**, the in-out parameter.\n",
    "\n",
    "Their role is to approximate **DFS** and **BFS**, respectively.\n",
    "\n",
    "\n",
    "\n",
    "### Definition of α(a, b):\n",
    "\n",
    "$$\n",
    "\\alpha(a, b) = \n",
    "\\begin{cases}\n",
    "\\frac{1}{p} & \\text{if } d_{ab} = 0 \\\\\\\\\n",
    "1           & \\text{if } d_{ab} = 1 \\\\\\\\\n",
    "\\frac{1}{q} & \\text{if } d_{ab} = 2\n",
    "\\end{cases}\n",
    "$$\n",
    "\n",
    "Here, **d<sub>ab</sub>** is the shortest path distance between nodes **a** and **b**.\n",
    "\n",
    "\n",
    "\n",
    "We can update the unnormalized transition probability from the previous graph as follows:\n",
    "\n",
    "<p align=\"center\">\n",
    "  <img src=\"images/3.jpg\" width=\"400\">\n",
    "</p>\n",
    "\n",
    "- Transition back to **i**: weight = **1/p**  \n",
    "- Transition to **k₁**: weight = **1**  \n",
    "- Transition to **k₂**: weight = **1/q**\n"
   ]
  },
  {
   "cell_type": "markdown",
   "id": "f8c9abd8",
   "metadata": {},
   "source": [
    "> When we say that $d_{ab} = 0$, it means that the node at time step $n+1$ is the same as the node at time step $n-1$.\n"
   ]
  },
  {
   "cell_type": "markdown",
   "id": "56069fc5",
   "metadata": {},
   "source": [
    "### 🔍 Understanding the Meaning of These Probabilities\n",
    "\n",
    "Let’s break down what each probability means:\n",
    "\n",
    "- ✅ **The walk starts from node `i` and now arrives at node `j`.**  \n",
    "  The probability of going back to the previous node `i` is controlled by the parameter **`p`**.  \n",
    "  The **higher** the value of `p`, the **less likely** the walk is to go back — instead, it prefers exploring new nodes.  \n",
    "  This makes the walk behave more like a **Depth-First Search (DFS)**.\n",
    "\n",
    "- ✅ **The unnormalized probability of going to node `k₁` is 1**  \n",
    "  because `k₁` is in the **immediate neighborhood** of the previous node `i`.  \n",
    "  There’s no penalty or boost applied here — it’s treated as a neutral move.\n",
    "\n",
    "- ✅ **The probability of going to node `k₂` is controlled by parameter `q`.**  \n",
    "  The **higher** the value of `q`, the **less likely** the walk will explore distant nodes.  \n",
    "  Instead, it prefers staying **close** to the previous node — just like in a **Breadth-First Search (BFS)**.\n",
    "\n",
    "\n",
    "\n",
    "### 💡 Summary:\n",
    "\n",
    "- Use **high `p`** to discourage returning to previous nodes (promotes DFS-style exploration).\n",
    "- Use **high `q`** to discourage walking to distant nodes (promotes BFS-style exploration).\n",
    "\n",
    "---\n",
    "\n",
    "### 🔧 Next Step:\n",
    "\n",
    "The best way to understand this behavior is to **implement** the algorithm and **experiment** with the values of `p` and `q`.\n",
    "\n",
    "Let’s do this step by step on following graph:\n"
   ]
  },
  {
   "cell_type": "code",
   "execution_count": 6,
   "id": "3a2bff98",
   "metadata": {},
   "outputs": [],
   "source": [
    "import networkx as nx\n",
    "import matplotlib.pyplot as plt\n",
    "import numpy as np"
   ]
  },
  {
   "cell_type": "code",
   "execution_count": 5,
   "id": "63148df2",
   "metadata": {},
   "outputs": [
    {
     "name": "stderr",
     "output_type": "stream",
     "text": [
      "/home/mohammadjavad/anaconda3/envs/py312/lib/python3.12/site-packages/networkx/drawing/nx_pylab.py:457: UserWarning: No data for colormapping provided via 'c'. Parameters 'cmap' will be ignored\n",
      "  node_collection = ax.scatter(\n"
     ]
    },
    {
     "data": {
      "image/png": "[encoded data removed]",
      "text/plain": [
       "<Figure size 800x600 with 1 Axes>"
      ]
     },
     "metadata": {},
     "output_type": "display_data"
    }
   ],
   "source": [
    "G = nx.erdos_renyi_graph(10, 0.3, seed=42, directed=False)\n",
    "\n",
    "pos = nx.spring_layout(G, seed=42)\n",
    "plt.figure(figsize=(8, 6))\n",
    "nx.draw_networkx(G,\n",
    "                 pos=pos,\n",
    "                 node_size=600,\n",
    "                 cmap='coolwarm',\n",
    "                 font_size=14,\n",
    "                 font_color='white'                \n",
    "                 )"
   ]
  },
  {
   "cell_type": "markdown",
   "id": "8ca273f8",
   "metadata": {},
   "source": [
    "First, we want to create a function that will randomly select the next node in a graph based on the\n",
    "previous node, the current node, and the two parameters and ."
   ]
  },
  {
   "cell_type": "code",
   "execution_count": 7,
   "id": "4f526ca7",
   "metadata": {},
   "outputs": [],
   "source": [
    "import random\n",
    "random.seed(42)\n",
    "np.random.seed(42)"
   ]
  },
  {
   "cell_type": "code",
   "execution_count": 21,
   "id": "1b618d07",
   "metadata": {},
   "outputs": [],
   "source": [
    "def next_node(graph, previous, current, p, q):\n",
    "    alphas = []\n",
    "\n",
    "    neighbors = list(graph.neighbors(current))\n",
    "    for neighbor in neighbors:\n",
    "        if neighbor == previous:\n",
    "            alpha = 1 / p\n",
    "        elif graph.has_edge(previous, neighbor):\n",
    "            alpha = 1\n",
    "        else:\n",
    "            alpha = 1 / q\n",
    "        alphas.append(alpha)\n",
    "\n",
    "    probs = [alpha / sum(alphas) for alpha in alphas]  # Normalize the alpha values to create transition probabilities\n",
    "\n",
    "    next = np.random.choice(neighbors, size=1, p=probs)[0]\n",
    "    return next"
   ]
  },
  {
   "cell_type": "code",
   "execution_count": 22,
   "id": "4a600006",
   "metadata": {},
   "outputs": [],
   "source": [
    "def random_walk(graph, start, length, p, q):\n",
    "    w = [start]\n",
    "    previous = None\n",
    "    current = start\n",
    "\n",
    "    for i in range(length):\n",
    "        next = next_node(graph=graph, previous=previous, current=current, p=p, q=q)\n",
    "        w.append(next)\n",
    "        previous = w[i]\n",
    "        current = w[-1]\n",
    "    \n",
    "    return w"
   ]
  },
  {
   "cell_type": "code",
   "execution_count": 23,
   "id": "629e5c21",
   "metadata": {},
   "outputs": [
    {
     "data": {
      "text/plain": [
       "[1, 9, 7, 8, 0, 2, 0, 8, 7, 9, 1]"
      ]
     },
     "execution_count": 23,
     "metadata": {},
     "output_type": "execute_result"
    }
   ],
   "source": [
    "random_walk(graph=G, start=1, length=10, p=1, q=1)"
   ]
  },
  {
   "cell_type": "code",
   "execution_count": 29,
   "id": "921b0d6f",
   "metadata": {},
   "outputs": [
    {
     "data": {
      "text/plain": [
       "[1, 3, 7, 8, 0, 3, 1, 9, 2, 5, 1]"
      ]
     },
     "execution_count": 29,
     "metadata": {},
     "output_type": "execute_result"
    }
   ],
   "source": [
    "random_walk(graph=G, start=1, length=10, p=1000, q=0.5)"
   ]
  },
  {
   "cell_type": "code",
   "execution_count": 30,
   "id": "cac85e47",
   "metadata": {},
   "outputs": [
    {
     "data": {
      "text/plain": [
       "[1, 2, 1, 9, 2, 9, 2, 1, 2, 1, 9]"
      ]
     },
     "execution_count": 30,
     "metadata": {},
     "output_type": "execute_result"
    }
   ],
   "source": [
    "random_walk(graph=G, start=1, length=10, p=0.5, q=1000)"
   ]
  },
  {
   "cell_type": "code",
   "execution_count": null,
   "id": "59afff56",
   "metadata": {},
   "outputs": [],
   "source": []
  },
  {
   "cell_type": "code",
   "execution_count": null,
   "id": "d5557aad",
   "metadata": {},
   "outputs": [],
   "source": []
  }
 ],
 "metadata": {
  "kernelspec": {
   "display_name": "py312",
   "language": "python",
   "name": "python3"
  },
  "language_info": {
   "codemirror_mode": {
    "name": "ipython",
    "version": 3
   },
   "file_extension": ".py",
   "mimetype": "text/x-python",
   "name": "python",
   "nbconvert_exporter": "python",
   "pygments_lexer": "ipython3",
   "version": "3.12.2"
  }
 },
 "nbformat": 4,
 "nbformat_minor": 5
}
