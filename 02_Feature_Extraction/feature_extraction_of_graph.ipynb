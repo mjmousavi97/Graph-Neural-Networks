{
 "cells": [
  {
   "cell_type": "markdown",
   "id": "0fa4c5f5",
   "metadata": {},
   "source": [
    "# Discovering graph concepts"
   ]
  },
  {
   "cell_type": "markdown",
   "id": "e8cc83bd",
   "metadata": {},
   "source": [
    "If we want a complete map of a graph, we basically need to know everything about its structure. But in practice, that raw data isn't easy for humans to understand. To make sense of a small graph, we can try visualizing it, but this won't work for large graphs. For massive graphs, only a mathematical representation can help us.\n",
    "\n",
    "One better approach is to define graph structure using mathematical features. These features simplify the structure into numbers and vectors, reducing the complexity and making it easier for people to understand. In this way, graphs can be better understood and processed.\n",
    "\n",
    "We said that the main goals of graph learning usually operate on three levels:\n",
    "\n",
    "- Node-level prediction\n",
    "\n",
    "- Edge-level prediction\n",
    "\n",
    "- Graph-level prediction\n",
    "\n",
    "So, features can be extracted at:\n",
    "\n",
    "- Node level\n",
    "\n",
    "- Edge level\n",
    "\n",
    "- Graph level\n"
   ]
  },
  {
   "cell_type": "markdown",
   "id": "063e19aa",
   "metadata": {},
   "source": [
    "## Node-level feature extraction"
   ]
  },
  {
   "cell_type": "markdown",
   "id": "08771e79",
   "metadata": {},
   "source": [
    " At first glance, node classification may seem similar to standard supervised classification.\n",
    "However, there is a significant difference between these two.\n",
    "\n",
    "In standard supervised classification, it is assumed that the training samples are independent and identically distributed (i.i.d.).\n",
    "\n",
    "This assumption allows the model to process each sample independently and ignore any dependencies between samples.\n",
    "\n",
    "But in node classification within a graph, this assumption is violated.\n",
    "\n",
    "Nodes in a graph are often connected, and their features and labels can influence their neighbors.\n",
    "This dependency between nodes means that we cannot treat each node independently, but instead must model the structure and relationships between them during the learning process.\n",
    "\n",
    "💡 Therefore, due to these dependencies, node classification is often treated as a semi-supervised learning problem.\n",
    "\n"
   ]
  },
  {
   "cell_type": "markdown",
   "id": "f1a5858b",
   "metadata": {},
   "source": [
    "## 📘 Degree in Undirected Graphs\n",
    "\n",
    "### 🔹 Node Degree *i*: Number of edges adjacent to node *i*\n",
    "\n",
    "Despite its simplicity, **degree** is one of the most useful and widely used metrics in graph analysis.\n",
    "\n",
    "The degree of a node *i* is calculated as:\n",
    "\n",
    "$$\n",
    "k_i = \\sum_{j=1}^{n} A_{ij}\n",
    "$$\n",
    "\n",
    "For example, in the figure below:\n",
    "\n",
    "$$\n",
    "k_A = 4\n",
    "$$\n",
    "\n",
    "The degree of node **A** is 4.\n",
    "\n",
    "---\n",
    "\n",
    "<p align=\"center\">\n",
    "  <img src=\"images/2.drawio.png\" alt=\"Node Degree Illustration\" width=\"500\"/>\n",
    "</p>\n",
    "\n",
    "---\n",
    "\n",
    "### 🧪 Examples:\n",
    "\n",
    "#### (a)  \n",
    "The central node has a **degree of 5**  \n",
    "➡️ because it is connected to **5 distinct edges**.\n",
    "\n",
    "#### (b)  \n",
    "The central node has **5 neighbors**,  \n",
    "➡️ but the **degree is 8** since it has **8 edge connections** (including loops and multi-edges).\n",
    "\n",
    "---\n",
    "\n",
    "> 💡 **Note**: Degree is a fundamental concept in graph theory that quantifies how connected each node is.\n"
   ]
  },
  {
   "cell_type": "code",
   "execution_count": 12,
   "id": "d2309131",
   "metadata": {},
   "outputs": [],
   "source": [
    "import numpy as np\n",
    "import networkx as nx\n",
    "from collections import Counter\n",
    "import matplotlib.pyplot as plt"
   ]
  },
  {
   "cell_type": "code",
   "execution_count": 2,
   "id": "998fde67",
   "metadata": {},
   "outputs": [],
   "source": [
    "G = nx.Graph()\n",
    "G.add_edges_from(\n",
    "    [('A', 'B'), ('A', 'C'), ('B', 'D'),\n",
    "('B', 'E'), ('C', 'F'), ('C', 'G')]\n",
    ")"
   ]
  },
  {
   "cell_type": "code",
   "execution_count": 4,
   "id": "6c27e0e7",
   "metadata": {},
   "outputs": [
    {
     "data": {
      "image/png": "[encoded data removed]",
      "text/plain": [
       "<Figure size 640x480 with 1 Axes>"
      ]
     },
     "metadata": {},
     "output_type": "display_data"
    }
   ],
   "source": [
    "pos = nx.spring_layout(G, seed=0) \n",
    "nx.draw_networkx(G, pos, with_labels=True, node_color='lightblue', node_size=1500, font_size=14, edge_color='gray')\n",
    "\n",
    "plt.axis(\"off\")\n",
    "plt.title(\"Graph Visualization\")\n",
    "plt.show()"
   ]
  },
  {
   "cell_type": "code",
   "execution_count": 6,
   "id": "42228b53",
   "metadata": {},
   "outputs": [
    {
     "name": "stdout",
     "output_type": "stream",
     "text": [
      "deg(A) = 2\n"
     ]
    }
   ],
   "source": [
    "print(f\"deg(A) = {G.degree['A']}\")"
   ]
  },
  {
   "cell_type": "markdown",
   "id": "9f5bfbe4",
   "metadata": {},
   "source": [
    "## 📊 Average Degree in Undirected Graphs\n",
    "\n",
    "### 🔸 Average Degree of Nodes:\n",
    "\n",
    "The **average degree of nodes** in a graph can be considered as the **graph’s degree**:\n",
    "\n",
    "$$\n",
    "c = \\frac{1}{n} \\sum_{i=1}^{n} k_i\n",
    "$$\n",
    "\n",
    "### 🔸 Relationship Between Edges and Degrees:\n",
    "\n",
    "In an undirected graph with **n nodes** and **m edges**,  \n",
    "each edge has two endpoints, so in total there are **2m edge-ends**.\n",
    "\n",
    "This means the sum of all node degrees equals \\( 2m \\):\n",
    "\n",
    "$$\n",
    "2m = \\sum_{i=1}^{n} k_i = \\sum_{ij} A_{ij}\n",
    "$$\n",
    "\n",
    "### 🔸 Combining the Two Equations:\n",
    "\n",
    "By substituting the total sum into the average formula:\n",
    "\n",
    "$$\n",
    "c = \\frac{2m}{n}\n",
    "$$\n",
    "\n"
   ]
  },
  {
   "cell_type": "markdown",
   "id": "b3fdfe1e",
   "metadata": {},
   "source": [
    "## 🧮 Graph Density \n",
    "\n",
    "### 🔹 Definition of Graph Density (ρ)\n",
    "\n",
    "Graph density is the **fraction of edges that actually exist** out of all possible edges in a simple undirected graph:\n",
    "\n",
    "$$\n",
    "\\rho = \\frac{m}{\\binom{n}{2}} = \\frac{2m}{n(n-1)}\n",
    "$$\n",
    "\n",
    "\n",
    "### 🔹 Total Number of Possible Edges in a Simple Graph\n",
    "\n",
    "In a **simple undirected graph** (no loops, no multiple edges), the maximum number of possible edges is:\n",
    "\n",
    "$$\n",
    "\\binom{n}{2} = \\frac{1}{2} n(n-1)\n",
    "$$\n",
    "\n",
    "🧠 _For a complete graph (fully connected), the number of possible edges is exactly_ **\\( \\frac{n(n-1)}{2} \\)**.\n",
    "\n",
    "\n",
    "### 🔹 Average Degree and Density Relationship\n",
    "\n",
    "Using the average degree \\( c \\), we can express density as:\n",
    "\n",
    "$$\n",
    "\\rho = \\frac{c}{n}\n",
    "$$\n",
    "\n",
    "Or from the relation:\n",
    "\n",
    "$$\n",
    "c = \\frac{2m}{n}\n",
    "$$\n",
    "\n",
    "\n",
    "### 🔹 Interpretation\n",
    "\n",
    "- The **density ρ** lies in the range:  \n",
    "  $$\n",
    "  0 \\leq \\rho \\leq 1\n",
    "  $$\n",
    "\n",
    "- A **very small ρ** means the graph is **sparse**.\n",
    "\n",
    "- A **very large ρ** means the graph is **dense** (possibly a **complete** or **highly connected** graph).\n",
    "\n",
    "- ✅ If the graph is **very small**, it's likely **dense**.  \n",
    "- 🚫 If the graph is **very large**, even with many edges, it may still be **sparse**.\n",
    "\n"
   ]
  },
  {
   "cell_type": "markdown",
   "id": "0d4d36a9",
   "metadata": {},
   "source": [
    "## 🔁 In-Degree and Out-Degree in Directed Graphs\n",
    "\n",
    "In a **directed graph**, the total number of edges \\( m \\) is equal to the total number of **incoming** edges (in-degree) across all nodes,  \n",
    "and also equal to the total number of **outgoing** edges (out-degree):\n",
    "\n",
    "$$\n",
    "m = \\sum_{i=1}^{n} k_i^{\\text{in}} = \\sum_{j=1}^{n} k_j^{\\text{out}} = \\sum_{ij} A_{ij}\n",
    "$$\n",
    "\n",
    "\n",
    "\n",
    "### 📊 Average In-Degree and Out-Degree\n",
    "\n",
    "Thus, the **average in-degree** and **average out-degree** of a directed graph are equal:\n",
    "\n",
    "$$\n",
    "c_{\\text{in}} = \\frac{1}{n} \\sum_{i=1}^{n} k_i^{\\text{in}} = \\frac{1}{n} \\sum_{j=1}^{n} k_j^{\\text{out}} = c_{\\text{out}}\n",
    "$$\n",
    "\n",
    "Or simply:\n",
    "\n",
    "$$\n",
    "c_{\\text{in}} = c_{\\text{out}} = c = \\frac{m}{n}\n",
    "$$\n",
    "\n",
    "\n",
    "> ℹ️ This equality holds for all directed graphs because each edge has one source and one destination, so each contributes exactly 1 to both in-degree and out-degree totals.\n",
    "\n"
   ]
  },
  {
   "cell_type": "code",
   "execution_count": 11,
   "id": "7f0c58e2",
   "metadata": {},
   "outputs": [],
   "source": [
    "DG = nx.DiGraph()\n",
    "DG.add_edges_from([('A', 'B'), ('A', 'C'), ('B', 'D'),\n",
    "('B', 'E'), ('C', 'F'), ('C', 'G')])"
   ]
  },
  {
   "cell_type": "code",
   "execution_count": 10,
   "id": "1e545649",
   "metadata": {},
   "outputs": [
    {
     "data": {
      "image/png": "[encoded data removed]",
      "text/plain": [
       "<Figure size 640x480 with 1 Axes>"
      ]
     },
     "metadata": {},
     "output_type": "display_data"
    }
   ],
   "source": [
    "nx.draw_networkx(DG, pos, with_labels=True, node_color='lightblue', node_size=1500, font_size=14, edge_color='gray')\n",
    "\n",
    "plt.axis(\"off\")\n",
    "plt.title(\"Directed Graph Visualization\")\n",
    "plt.show()"
   ]
  },
  {
   "cell_type": "code",
   "execution_count": 9,
   "id": "fc4a3f6c",
   "metadata": {},
   "outputs": [
    {
     "name": "stdout",
     "output_type": "stream",
     "text": [
      "deg^-(A) = 0\n",
      "deg^+(A) = 2\n"
     ]
    }
   ],
   "source": [
    "print(f\"deg^-(A) = {DG.in_degree['A']}\")\n",
    "print(f\"deg^+(A) = {DG.out_degree['A']}\")"
   ]
  },
  {
   "cell_type": "markdown",
   "id": "7615f1c3",
   "metadata": {},
   "source": [
    "## 📈 Degree Distribution of a Graph\n",
    "\n",
    "**Degree distribution** expresses how many nodes in a graph have different degrees \\( k \\).\n",
    "\n",
    "Mathematically:\n",
    "\n",
    "$$\n",
    "P(k) = \\frac{\\text{Number of nodes with degree } k}{\\text{Total number of nodes in the graph}}\n",
    "$$\n",
    "\n",
    "- \\( P(k) \\) indicates the **probability of observing a node with degree \\( k \\)** in the graph.\n"
   ]
  },
  {
   "cell_type": "code",
   "execution_count": 17,
   "id": "74a73343",
   "metadata": {},
   "outputs": [
    {
     "name": "stdout",
     "output_type": "stream",
     "text": [
      "nod: A, deg: 2 \n",
      "nod: B, deg: 3 \n",
      "nod: C, deg: 3 \n",
      "nod: D, deg: 1 \n",
      "nod: E, deg: 1 \n",
      "nod: F, deg: 1 \n",
      "nod: G, deg: 1 \n"
     ]
    }
   ],
   "source": [
    "for nod, deg in G.degree():\n",
    "    print(f\"nod: {nod}, deg: {deg} \")"
   ]
  },
  {
   "cell_type": "code",
   "execution_count": 19,
   "id": "685f6d6e",
   "metadata": {},
   "outputs": [
    {
     "name": "stdout",
     "output_type": "stream",
     "text": [
      "Degree counts: {2: 1, 3: 2, 1: 4}\n"
     ]
    }
   ],
   "source": [
    "degrees = [deg for node, deg in G.degree()]\n",
    "degree_counts = Counter(degrees)\n",
    "print(\"Degree counts:\", dict(degree_counts))"
   ]
  },
  {
   "cell_type": "code",
   "execution_count": 22,
   "id": "f82d5d87",
   "metadata": {},
   "outputs": [
    {
     "name": "stdout",
     "output_type": "stream",
     "text": [
      "Degree distribution (P(k)):\n",
      "P(1) = 0.571\n",
      "P(2) = 0.143\n",
      "P(3) = 0.286\n"
     ]
    }
   ],
   "source": [
    "total_nodes = G.number_of_nodes()\n",
    "degree_distribution = {k: v / total_nodes for k, v in degree_counts.items()}\n",
    "\n",
    "print(\"Degree distribution (P(k)):\")\n",
    "for degree, prob in sorted(degree_distribution.items()):\n",
    "    print(f\"P({degree}) = {prob:.3f}\")"
   ]
  },
  {
   "cell_type": "markdown",
   "id": "2aa23bee",
   "metadata": {},
   "source": [
    "# 📊 Graph Centrality Measures"
   ]
  },
  {
   "cell_type": "markdown",
   "id": "90a33a9d",
   "metadata": {},
   "source": [
    "Centrality quantifies the importance of a vertex or node in a network. It helps us to identify key nodes\n",
    "in a graph based on their connectivity and influence on the flow of information or interactions within\n",
    "the network. There are several measures of centrality, each providing a different perspective on the\n",
    "importance of a node:\n",
    "\n",
    "- **Degree centrality** is one of the simplest and most commonly used measures of centrality. It\n",
    "is simply defined as the degree of the node. A high degree centrality indicates that a vertex is\n",
    "highly connected to other vertices in the graph, and thus significantly influences the network.\n",
    "\n",
    "- **Closeness centrality** measures how close a node is to all other nodes in the graph. It corresponds\n",
    "to the average length of the shortest path between the target node and all other nodes in the\n",
    "graph. A node with high closeness centrality can quickly reach all other vertices in the network.\n",
    "\n",
    "- **Betweenness centrality** measures the number of times a node lies on the shortest path between\n",
    "pairs of other nodes in the graph. A node with high betweenness centrality acts as a bottleneck\n",
    "or bridge between different parts of the graph."
   ]
  },
  {
   "cell_type": "markdown",
   "id": "1147c5d7",
   "metadata": {},
   "source": [
    "## 🚀 1. Degree Centrality\n",
    "\n",
    "### 🔹 Definition\n",
    "**Degree centrality** is the simplest centrality measure.  \n",
    "It is simply the **number of edges connected to the node**.\n",
    "\n",
    "**Formula:**\n",
    "$$\n",
    "DC(v) = \\deg(v)\n",
    "$$\n",
    "\n",
    "- In **undirected graphs**, this is just the total number of edges connected to the node.\n",
    "- In **directed graphs**, we have:\n",
    "    - **In-degree**: number of incoming edges.\n",
    "    - **Out-degree**: number of outgoing edges.\n",
    "\n",
    "### 🔹 Interpretation\n",
    "- Nodes with **high degree centrality** are directly connected to many other nodes.\n",
    "- Examples:\n",
    "    - In social networks: people with many direct friends.\n",
    "    - In brain graphs: regions connected to many other regions.\n",
    "\n",
    "---\n",
    "\n",
    "## 🚀 2. Closeness Centrality\n",
    "\n",
    "### 🔹 Definition\n",
    "**Closeness centrality** measures **how close a node is to all other nodes** in the graph.  \n",
    "It is defined as the inverse of the average length of the shortest paths to all other nodes.\n",
    "\n",
    "**Formula:**\n",
    "$$\n",
    "CC(v) = \\frac{1}{\\sum_{u \\neq v} d(v,u)}\n",
    "$$\n",
    "\n",
    "where $d(v,u)$ is the shortest path distance between nodes $v$ and $u$.\n",
    "\n",
    "### 🔹 Interpretation\n",
    "- A node with **high closeness centrality** can reach other nodes **quickly**.\n",
    "- Examples:\n",
    "    - In transportation networks: well-located hubs.\n",
    "    - In brain networks: regions that efficiently communicate with the whole brain.\n",
    "\n",
    "---\n",
    "\n",
    "## 🚀 3. Betweenness Centrality\n",
    "\n",
    "### 🔹 Definition\n",
    "**Betweenness centrality** measures **how often a node lies on the shortest paths** between other pairs of nodes.\n",
    "\n",
    "**Formula:**\n",
    "$$\n",
    "BC(v) = \\sum_{s \\neq v \\neq t} \\frac{\\sigma_{st}(v)}{\\sigma_{st}}\n",
    "$$\n",
    "\n",
    "where:\n",
    "- $\\sigma_{st}$ = number of shortest paths from node $s$ to node $t$\n",
    "- $\\sigma_{st}(v)$ = number of those paths that pass through $v$.\n",
    "\n",
    "### 🔹 Interpretation\n",
    "- Nodes with **high betweenness centrality** act as **bridges or brokers**.\n",
    "- Examples:\n",
    "    - In social networks: they control or facilitate information flow.\n",
    "    - In brain networks: may coordinate communication between different subnetworks.\n",
    "\n"
   ]
  },
  {
   "cell_type": "code",
   "execution_count": 29,
   "id": "5cdf165e",
   "metadata": {},
   "outputs": [
    {
     "name": "stdout",
     "output_type": "stream",
     "text": [
      "Degree centrality = {'A': 0.3333333333333333, 'B': 0.5, 'C': 0.5, 'D': 0.16666666666666666, 'E': 0.16666666666666666, 'F': 0.16666666666666666, 'G': 0.16666666666666666} \n",
      " \n",
      "Closeness centrality = {'A': 0.6, 'B': 0.5454545454545454, 'C': 0.5454545454545454, 'D': 0.375, 'E': 0.375, 'F': 0.375, 'G': 0.375} \n",
      " \n",
      "Betweenness centrality = {'A': 0.6, 'B': 0.6, 'C': 0.6, 'D': 0.0, 'E': 0.0, 'F': 0.0, 'G': 0.0}\n"
     ]
    }
   ],
   "source": [
    "print(f\"Degree centrality = {nx.degree_centrality(G)} \\n \")\n",
    "print(f\"Closeness centrality = {nx.closeness_centrality(G)} \\n \")\n",
    "print(f\"Betweenness centrality = {nx.betweenness_centrality(G)}\")"
   ]
  },
  {
   "cell_type": "markdown",
   "id": "00e5e0c2",
   "metadata": {},
   "source": [
    "## 📊 Node Importance in Graphs\n",
    "\n",
    "The importance of nodes A, B, and C in a graph depends on the type of centrality used. Degree centrality considers nodes A and B to be more important because they have more neighbors than node C. However, when using closeness centrality, node C becomes the most important since it can reach any other node in the graph via the shortest possible path. On the other hand, nodes A, B, and C have equal betweenness centrality because they all lie on a large number of shortest paths between other nodes.\n",
    "\n",
    "In addition to these traditional centrality measures, we will explore how to calculate the importance of a node using machine learning techniques in the next chapters. However, centralities are not the only metrics we will discuss. In fact, another crucial measure is the **density** of the graph, which indicates how connected the graph is overall. Density is defined as the ratio between the actual number of edges and the maximum possible number of edges that the graph could have.\n",
    "\n",
    "A graph with high density is considered more connected and generally allows for more robust information flow compared to a graph with low density. The formula to calculate the maximum possible number of edges depends on whether the graph is directed or undirected. For an undirected graph with \\( n \\) nodes, the maximum possible number of edges is:\n",
    "\n",
    "$$\n",
    "\\frac{n(n - 1)}{2}\n",
    "$$\n",
    "\n",
    "For a directed graph with \\( n \\) nodes, the maximum possible number of edges is simply:\n",
    "\n",
    "$$\n",
    "n(n - 1)\n",
    "$$\n",
    "\n",
    "Thus, the density of a graph is calculated as:\n",
    "\n",
    "$$\n",
    "\\text{Density} = \\frac{\\text{Number of edges}}{\\text{Maximum possible number of edges}}\n",
    "$$\n",
    "\n",
    "For example, if we consider the graph G, it has 6 edges, while the maximum possible number of edges with 7 nodes in an undirected graph would be:\n",
    "\n",
    "$$\n",
    "\\frac{7(7 - 1)}{2} = 21\n",
    "$$\n",
    "\n",
    "Therefore, the density of this graph is:\n",
    "\n",
    "$$\n",
    "\\frac{6}{21} \\approx 0.2857\n",
    "$$\n",
    "\n",
    "This gives us an indication that the graph is relatively sparse and not fully connected.\n"
   ]
  },
  {
   "cell_type": "markdown",
   "id": "c61dc893",
   "metadata": {},
   "source": [
    "___\n"
   ]
  },
  {
   "cell_type": "markdown",
   "id": "a36dc5aa",
   "metadata": {},
   "source": [
    "## 🔁 Transitivity & Clustering in Graphs\n",
    "\n",
    "### 🧠 The Concept of Transitivity\n",
    "\n",
    "A very useful concept in graph analysis is **transitivity**.\n",
    "\n",
    "It is based on this logical rule:\n",
    "\n",
    "> If **A = B** and **B = C**, then **A = C**\n",
    "\n",
    "Now, in graph terms, if two nodes are both connected to a third node, they may be connected to each other as well.\n",
    "\n",
    "This is often summarized with the phrase:\n",
    "\n",
    "> “A friend of my friend is also my friend”\n",
    "\n",
    "In graph theory, this logic implies that if node **u** is connected to **v**, and **v** is connected to **w**, there might also be an edge between **u** and **w**, forming a **triangle**.\n",
    "\n",
    "---\n",
    "\n",
    "### 🔁 Closed and Open Paths of Length 2\n",
    "\n",
    "- A **path of length two** means a path like **u → v → w**\n",
    "- If **u** is also connected directly to **w**, it forms a **closed path** or **triangle**\n",
    "- If **u** is not connected to **w**, the path is **open**\n",
    "\n",
    "---\n",
    "\n",
    "## 🔺 Clustering Coefficient\n",
    "\n",
    "The **clustering coefficient** quantifies **how many of these paths of length 2 are actually closed**.\n",
    "\n",
    "### 📐 Formula:\n",
    "\n",
    "$$\n",
    "C = \\frac{\\text{number of closed paths of length two}}{\\text{number of all paths of length two}}\n",
    "$$\n",
    "\n",
    "---\n",
    "\n",
    "### 🧮 Interpretation:\n",
    "\n",
    "- **C = 1**: Every path of length 2 closes into a triangle. The graph is **fully clustered**.\n",
    "- **C = 0**: No triangles exist in the graph. It’s **sparse** or **random**.\n",
    "- **0 < C < 1**: The graph has **some clustering**, and the value shows **how likely it is** that a random pair of neighbors are also connected.\n",
    "\n",
    "This coefficient gives a **single number** to express the **level of local connectedness** in a graph.\n",
    "\n",
    "---\n",
    "\n",
    "> 🔍 In practice, higher clustering coefficients are typical of social networks and community-like structures, while low clustering is common in random or tree-like graphs.\n",
    "\n"
   ]
  },
  {
   "cell_type": "code",
   "execution_count": 30,
   "id": "8afa5897",
   "metadata": {},
   "outputs": [
    {
     "name": "stdout",
     "output_type": "stream",
     "text": [
      "Clustering coefficient per node: \n",
      "A: 0.000\n",
      "B: 0.000\n",
      "C: 0.000\n",
      "D: 0.000\n",
      "E: 0.000\n",
      "F: 0.000\n",
      "G: 0.000\n"
     ]
    }
   ],
   "source": [
    "clustering_per_nod = nx.clustering(G)\n",
    "\n",
    "print(\"Clustering coefficient per node: \")\n",
    "for node, coeff in clustering_per_nod.items():\n",
    "    print(f\"{node}: {coeff:.3f}\") "
   ]
  },
  {
   "cell_type": "code",
   "execution_count": 31,
   "id": "64d7e504",
   "metadata": {},
   "outputs": [
    {
     "name": "stdout",
     "output_type": "stream",
     "text": [
      " \n",
      "Average Clustering Coefficient of Graph G is: 0.000\n"
     ]
    }
   ],
   "source": [
    "avg_clustering = nx.average_clustering(G)\n",
    "\n",
    "print(f\" \\nAverage Clustering Coefficient of Graph G is: {avg_clustering:.3f}\")"
   ]
  },
  {
   "cell_type": "markdown",
   "id": "5d9bd8c1",
   "metadata": {},
   "source": [
    "The average clustering coefficient of Graph G is 0.000, indicating there are no local clusters or triangles in the network.\n",
    "This means that neighbors of nodes are not connected to each other, showing a completely unclustered structure."
   ]
  },
  {
   "cell_type": "markdown",
   "id": "c893cbe9",
   "metadata": {},
   "source": []
  }
 ],
 "metadata": {
  "kernelspec": {
   "display_name": "py312",
   "language": "python",
   "name": "python3"
  },
  "language_info": {
   "codemirror_mode": {
    "name": "ipython",
    "version": 3
   },
   "file_extension": ".py",
   "mimetype": "text/x-python",
   "name": "python",
   "nbconvert_exporter": "python",
   "pygments_lexer": "ipython3",
   "version": "3.12.2"
  }
 },
 "nbformat": 4,
 "nbformat_minor": 5
}
